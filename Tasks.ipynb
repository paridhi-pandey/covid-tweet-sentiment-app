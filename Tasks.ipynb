{
  "nbformat": 4,
  "nbformat_minor": 0,
  "metadata": {
    "colab": {
      "provenance": [],
      "authorship_tag": "ABX9TyNud5k7aJt0Enzm+zrXMNC8",
      "include_colab_link": true
    },
    "kernelspec": {
      "name": "python3",
      "display_name": "Python 3"
    },
    "language_info": {
      "name": "python"
    }
  },
  "cells": [
    {
      "cell_type": "markdown",
      "metadata": {
        "id": "view-in-github",
        "colab_type": "text"
      },
      "source": [
        "<a href=\"https://colab.research.google.com/github/paridhi-pandey/covid-tweet-sentiment-app/blob/main/Tasks.ipynb\" target=\"_parent\"><img src=\"https://colab.research.google.com/assets/colab-badge.svg\" alt=\"Open In Colab\"/></a>"
      ]
    },
    {
      "cell_type": "markdown",
      "source": [
        "# Functions"
      ],
      "metadata": {
        "id": "RDn8ZIA7p0aP"
      }
    },
    {
      "cell_type": "markdown",
      "source": [
        "##  1) Write a function to count even numbers in a list."
      ],
      "metadata": {
        "id": "nleWNfw4qDQK"
      }
    },
    {
      "cell_type": "code",
      "execution_count": null,
      "metadata": {
        "id": "6nHbl-fLmN5V",
        "colab": {
          "base_uri": "https://localhost:8080/"
        },
        "outputId": "a07003ca-a3c8-4cd0-a2c8-731e0ebb23bc"
      },
      "outputs": [
        {
          "output_type": "stream",
          "name": "stdout",
          "text": [
            "Number of even numbers: 4\n"
          ]
        }
      ],
      "source": [
        "def count_even_numbers(numbers):\n",
        "    count = 0\n",
        "    for num in numbers:\n",
        "        if num % 2 == 0:\n",
        "            count += 1\n",
        "    return count\n",
        "\n",
        "my_list = [1, 2, 3, 4, 6, 7, 8]\n",
        "result = count_even_numbers(my_list)\n",
        "print(\"Number of even numbers:\", result)\n"
      ]
    },
    {
      "cell_type": "markdown",
      "source": [
        "##  2) Write a function to find maximum of three numbers."
      ],
      "metadata": {
        "id": "iaBtMK12qXFg"
      }
    },
    {
      "cell_type": "code",
      "source": [
        "def max_of_three(a, b, c):\n",
        "    if a >= b and a >= c:\n",
        "        return a\n",
        "    elif b >= a and b >= c:\n",
        "        return b\n",
        "    else:\n",
        "        return c\n",
        "print(max_of_three(10, 25, 17))\n"
      ],
      "metadata": {
        "id": "xEOp4Lh3u8aL",
        "colab": {
          "base_uri": "https://localhost:8080/"
        },
        "outputId": "e451be0f-0ce8-45a4-aa4c-5ea1045f1238"
      },
      "execution_count": null,
      "outputs": [
        {
          "output_type": "stream",
          "name": "stdout",
          "text": [
            "25\n"
          ]
        }
      ]
    },
    {
      "cell_type": "markdown",
      "source": [
        "##  3) Write a function to find the sum of a list of user-entered numbers."
      ],
      "metadata": {
        "id": "knMpFPijqgTR"
      }
    },
    {
      "cell_type": "code",
      "source": [
        "def sum_user_numbers():\n",
        "    user_input = input(\"Enter numbers: \")\n",
        "    number_list = list(map(float, user_input.split()))\n",
        "    total = sum(number_list)\n",
        "    return total\n",
        "\n",
        "result = sum_user_numbers()\n",
        "print(\"Sum of the numbers is:\", result)\n"
      ],
      "metadata": {
        "id": "nw7fJcopu_Yf",
        "colab": {
          "base_uri": "https://localhost:8080/"
        },
        "outputId": "825a6514-5e30-4217-a473-e90bdefa7d0a"
      },
      "execution_count": null,
      "outputs": [
        {
          "output_type": "stream",
          "name": "stdout",
          "text": [
            "Enter numbers: 2 3 4 5 \n",
            "Sum of the numbers is: 14.0\n"
          ]
        }
      ]
    }
  ]
}